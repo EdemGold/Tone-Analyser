{
 "cells": [
  {
   "cell_type": "markdown",
   "id": "cca01b4b",
   "metadata": {},
   "source": [
    "# 0.) Authenticate"
   ]
  },
  {
   "cell_type": "code",
   "execution_count": 8,
   "id": "0cef9c8f",
   "metadata": {},
   "outputs": [],
   "source": [
    "apikey = '5ywxYmte2o8Tf1TPCRf78ABcQ1C1P4wJbkHf5-1jtK_0'\n",
    "\n",
    "url = 'https://api.eu-gb.tone-analyzer.watson.cloud.ibm.com/instances/1f8a657d-11c0-49d2-90cb-97f24ce70876'"
   ]
  },
  {
   "cell_type": "code",
   "execution_count": 9,
   "id": "ee1f87e7",
   "metadata": {},
   "outputs": [],
   "source": [
    "from ibm_watson import ToneAnalyzerV3\n",
    "from ibm_cloud_sdk_core.authenticators import IAMAuthenticator"
   ]
  },
  {
   "cell_type": "code",
   "execution_count": 10,
   "id": "27d5e053",
   "metadata": {},
   "outputs": [],
   "source": [
    "authenticator = IAMAuthenticator(apikey)\n",
    "ta = ToneAnalyzerV3(version='2017-09-21', authenticator=authenticator )\n",
    "ta.set_service_url(url)"
   ]
  },
  {
   "cell_type": "markdown",
   "id": "091f5a4a",
   "metadata": {},
   "source": [
    "# 1.) Analyze Tone"
   ]
  },
  {
   "cell_type": "code",
   "execution_count": 21,
   "id": "0e5b9768",
   "metadata": {},
   "outputs": [],
   "source": [
    "res = ta.tone('This sucks, I hate my job so much').get_result()"
   ]
  },
  {
   "cell_type": "code",
   "execution_count": 22,
   "id": "71f64707",
   "metadata": {},
   "outputs": [
    {
     "data": {
      "text/plain": [
       "{'document_tone': {'tones': [{'score': 0.756812,\n",
       "    'tone_id': 'anger',\n",
       "    'tone_name': 'Anger'}]}}"
      ]
     },
     "execution_count": 22,
     "metadata": {},
     "output_type": "execute_result"
    }
   ],
   "source": [
    "res"
   ]
  },
  {
   "cell_type": "markdown",
   "id": "77f8d5e5",
   "metadata": {},
   "source": [
    "# 2.) Analyze Chat Tone"
   ]
  },
  {
   "cell_type": "code",
   "execution_count": 24,
   "id": "bcaa4d43",
   "metadata": {},
   "outputs": [],
   "source": [
    "chat = [\n",
    "    {\n",
    "        \"text\":\"I feel great, it's sunny outside and I hae=ve gotten all my work done.\",\n",
    "        \"user\":\"He who shall not be named\"\n",
    "    },\n",
    "      {\n",
    "        \"text\":\"This sucks, I have like 500 hundred hours of coding left this sucks.\",\n",
    "        \"user\":\"jack\"\n",
    "    }\n",
    "]"
   ]
  },
  {
   "cell_type": "code",
   "execution_count": 25,
   "id": "4d44dd90",
   "metadata": {},
   "outputs": [],
   "source": [
    "res = ta.tone_chat(chat).get_result()"
   ]
  },
  {
   "cell_type": "code",
   "execution_count": 26,
   "id": "67f026f9",
   "metadata": {},
   "outputs": [
    {
     "data": {
      "text/plain": [
       "{'utterances_tone': [{'utterance_id': 0,\n",
       "   'utterance_text': \"I feel great, it's sunny outside and I hae=ve gotten all my work done.\",\n",
       "   'tones': [{'score': 0.824439,\n",
       "     'tone_id': 'excited',\n",
       "     'tone_name': 'Excited'}]},\n",
       "  {'utterance_id': 1,\n",
       "   'utterance_text': 'This sucks, I have like 500 hundred hours of coding left this sucks.',\n",
       "   'tones': [{'score': 0.760772,\n",
       "     'tone_id': 'frustrated',\n",
       "     'tone_name': 'Frustrated'},\n",
       "    {'score': 0.787916, 'tone_id': 'impolite', 'tone_name': 'Impolite'},\n",
       "    {'score': 0.606762, 'tone_id': 'sad', 'tone_name': 'Sad'}]}]}"
      ]
     },
     "execution_count": 26,
     "metadata": {},
     "output_type": "execute_result"
    }
   ],
   "source": [
    "res"
   ]
  }
 ],
 "metadata": {
  "kernelspec": {
   "display_name": "Python 3",
   "language": "python",
   "name": "python3"
  },
  "language_info": {
   "codemirror_mode": {
    "name": "ipython",
    "version": 3
   },
   "file_extension": ".py",
   "mimetype": "text/x-python",
   "name": "python",
   "nbconvert_exporter": "python",
   "pygments_lexer": "ipython3",
   "version": "3.8.8"
  }
 },
 "nbformat": 4,
 "nbformat_minor": 5
}
